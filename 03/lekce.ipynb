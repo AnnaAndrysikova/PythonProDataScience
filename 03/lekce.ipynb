{
 "cells": [
  {
   "attachments": {},
   "cell_type": "markdown",
   "metadata": {},
   "source": [
    "# Lekce 3\n",
    "\n",
    "## Práce s datem a časem\n",
    "\n",
    "Zkusme si načíst následující tabulku."
   ]
  },
  {
   "cell_type": "code",
   "execution_count": 50,
   "metadata": {},
   "outputs": [
    {
     "data": {
      "text/html": [
       "<div>\n",
       "<style scoped>\n",
       "    .dataframe tbody tr th:only-of-type {\n",
       "        vertical-align: middle;\n",
       "    }\n",
       "\n",
       "    .dataframe tbody tr th {\n",
       "        vertical-align: top;\n",
       "    }\n",
       "\n",
       "    .dataframe thead th {\n",
       "        text-align: right;\n",
       "    }\n",
       "</style>\n",
       "<table border=\"1\" class=\"dataframe\">\n",
       "  <thead>\n",
       "    <tr style=\"text-align: right;\">\n",
       "      <th></th>\n",
       "      <th>invoice_date</th>\n",
       "      <th>customer</th>\n",
       "      <th>amount</th>\n",
       "    </tr>\n",
       "  </thead>\n",
       "  <tbody>\n",
       "    <tr>\n",
       "      <th>0</th>\n",
       "      <td>24. 07. 2021</td>\n",
       "      <td>Robbins-Bryant</td>\n",
       "      <td>42424.49</td>\n",
       "    </tr>\n",
       "    <tr>\n",
       "      <th>1</th>\n",
       "      <td>03. 06. 2021</td>\n",
       "      <td>Little, Espinoza and Manning</td>\n",
       "      <td>6269.53</td>\n",
       "    </tr>\n",
       "    <tr>\n",
       "      <th>2</th>\n",
       "      <td>24. 06. 2021</td>\n",
       "      <td>Hartman-Garcia</td>\n",
       "      <td>19182.55</td>\n",
       "    </tr>\n",
       "    <tr>\n",
       "      <th>3</th>\n",
       "      <td>09. 08. 2021</td>\n",
       "      <td>Mason, Armstrong and Whitaker</td>\n",
       "      <td>66295.23</td>\n",
       "    </tr>\n",
       "    <tr>\n",
       "      <th>4</th>\n",
       "      <td>29. 06. 2021</td>\n",
       "      <td>Dickerson-Blankenship</td>\n",
       "      <td>88592.58</td>\n",
       "    </tr>\n",
       "  </tbody>\n",
       "</table>\n",
       "</div>"
      ],
      "text/plain": [
       "   invoice_date                       customer    amount\n",
       "0  24. 07. 2021                 Robbins-Bryant  42424.49\n",
       "1  03. 06. 2021   Little, Espinoza and Manning   6269.53\n",
       "2  24. 06. 2021                 Hartman-Garcia  19182.55\n",
       "3  09. 08. 2021  Mason, Armstrong and Whitaker  66295.23\n",
       "4  29. 06. 2021          Dickerson-Blankenship  88592.58"
      ]
     },
     "execution_count": 50,
     "metadata": {},
     "output_type": "execute_result"
    }
   ],
   "source": [
    "import pandas\n",
    "import matplotlib.pyplot as plt\n",
    "\n",
    "invoices = pandas.read_csv(\"invoices.csv\")\n",
    "invoices.head()"
   ]
  },
  {
   "attachments": {},
   "cell_type": "markdown",
   "metadata": {},
   "source": [
    "Podívejme se nyní na to, jaké datové typy mají jednotlivé sloupce."
   ]
  },
  {
   "cell_type": "code",
   "execution_count": 51,
   "metadata": {},
   "outputs": [
    {
     "data": {
      "text/plain": [
       "invoice_date     object\n",
       "customer         object\n",
       "amount          float64\n",
       "dtype: object"
      ]
     },
     "execution_count": 51,
     "metadata": {},
     "output_type": "execute_result"
    }
   ],
   "source": [
    "invoices.dtypes"
   ]
  },
  {
   "attachments": {},
   "cell_type": "markdown",
   "metadata": {},
   "source": [
    "První dva sloupce mají obecný typ `object`, `pandas` tedy nerozpoznal, že v prvním sloupci je datum. To je škoda, protože nám to neumožní s datem pracovat. Můžeme ale hodnotu na typ `datetime` převést. K převodu použijeme funkci `to_datetime`, které předáme sloupec `invoice_date` a výstup uložíme do sloupce `invoice_date_converted`."
   ]
  },
  {
   "cell_type": "code",
   "execution_count": 52,
   "metadata": {},
   "outputs": [
    {
     "name": "stderr",
     "output_type": "stream",
     "text": [
      "C:\\Users\\jiri.pesik.HULD\\AppData\\Local\\Temp\\ipykernel_21936\\466789594.py:1: UserWarning: Parsing dates in %d. %m. %Y format when dayfirst=False (the default) was specified. Pass `dayfirst=True` or specify a format to silence this warning.\n",
      "  invoices[\"invoice_date_converted\"] = pandas.to_datetime(invoices[\"invoice_date\"])\n"
     ]
    },
    {
     "data": {
      "text/html": [
       "<div>\n",
       "<style scoped>\n",
       "    .dataframe tbody tr th:only-of-type {\n",
       "        vertical-align: middle;\n",
       "    }\n",
       "\n",
       "    .dataframe tbody tr th {\n",
       "        vertical-align: top;\n",
       "    }\n",
       "\n",
       "    .dataframe thead th {\n",
       "        text-align: right;\n",
       "    }\n",
       "</style>\n",
       "<table border=\"1\" class=\"dataframe\">\n",
       "  <thead>\n",
       "    <tr style=\"text-align: right;\">\n",
       "      <th></th>\n",
       "      <th>invoice_date</th>\n",
       "      <th>customer</th>\n",
       "      <th>amount</th>\n",
       "      <th>invoice_date_converted</th>\n",
       "    </tr>\n",
       "  </thead>\n",
       "  <tbody>\n",
       "    <tr>\n",
       "      <th>0</th>\n",
       "      <td>24. 07. 2021</td>\n",
       "      <td>Robbins-Bryant</td>\n",
       "      <td>42424.49</td>\n",
       "      <td>2021-07-24</td>\n",
       "    </tr>\n",
       "    <tr>\n",
       "      <th>1</th>\n",
       "      <td>03. 06. 2021</td>\n",
       "      <td>Little, Espinoza and Manning</td>\n",
       "      <td>6269.53</td>\n",
       "      <td>2021-06-03</td>\n",
       "    </tr>\n",
       "    <tr>\n",
       "      <th>2</th>\n",
       "      <td>24. 06. 2021</td>\n",
       "      <td>Hartman-Garcia</td>\n",
       "      <td>19182.55</td>\n",
       "      <td>2021-06-24</td>\n",
       "    </tr>\n",
       "    <tr>\n",
       "      <th>3</th>\n",
       "      <td>09. 08. 2021</td>\n",
       "      <td>Mason, Armstrong and Whitaker</td>\n",
       "      <td>66295.23</td>\n",
       "      <td>2021-08-09</td>\n",
       "    </tr>\n",
       "    <tr>\n",
       "      <th>4</th>\n",
       "      <td>29. 06. 2021</td>\n",
       "      <td>Dickerson-Blankenship</td>\n",
       "      <td>88592.58</td>\n",
       "      <td>2021-06-29</td>\n",
       "    </tr>\n",
       "  </tbody>\n",
       "</table>\n",
       "</div>"
      ],
      "text/plain": [
       "   invoice_date                       customer    amount   \n",
       "0  24. 07. 2021                 Robbins-Bryant  42424.49  \\\n",
       "1  03. 06. 2021   Little, Espinoza and Manning   6269.53   \n",
       "2  24. 06. 2021                 Hartman-Garcia  19182.55   \n",
       "3  09. 08. 2021  Mason, Armstrong and Whitaker  66295.23   \n",
       "4  29. 06. 2021          Dickerson-Blankenship  88592.58   \n",
       "\n",
       "  invoice_date_converted  \n",
       "0             2021-07-24  \n",
       "1             2021-06-03  \n",
       "2             2021-06-24  \n",
       "3             2021-08-09  \n",
       "4             2021-06-29  "
      ]
     },
     "execution_count": 52,
     "metadata": {},
     "output_type": "execute_result"
    }
   ],
   "source": [
    "invoices[\"invoice_date_converted\"] = pandas.to_datetime(invoices[\"invoice_date\"])\n",
    "invoices.head()"
   ]
  },
  {
   "attachments": {},
   "cell_type": "markdown",
   "metadata": {},
   "source": [
    "Překvapivé je, že si pandas s českým formátem poradil. Resp. se to tak zdá. Pokud si ale sloupce pečlivě porovnáme, zjistíme, že v případě řádku 1 byl 3. červen transformován na 6. březen.\n",
    "\n",
    "Pandas totiž předpokládá **americký styl zápisu**, který má (z nepochopitelných důvodů) na prvním místě měsíc a na druhém místě den. Není však dogmatický a u 2 řádku pochopil, že 27 číslo měsíce není a datum převede správně. Již mu ale nedojde, že by mohl stejným stylem převést ostatní data (a ostatně ani není zaručeno, že všechna data musí mít stejný formát).\n",
    "\n",
    "První možností, jak si s tím poradit, je nastavení parametru `dayfirst`, kterým říkáme, že číslo jde je před číslem měsíce. Je zřejmé, že výchozí hodnota parametru je `False`."
   ]
  },
  {
   "cell_type": "code",
   "execution_count": 53,
   "metadata": {},
   "outputs": [
    {
     "data": {
      "text/html": [
       "<div>\n",
       "<style scoped>\n",
       "    .dataframe tbody tr th:only-of-type {\n",
       "        vertical-align: middle;\n",
       "    }\n",
       "\n",
       "    .dataframe tbody tr th {\n",
       "        vertical-align: top;\n",
       "    }\n",
       "\n",
       "    .dataframe thead th {\n",
       "        text-align: right;\n",
       "    }\n",
       "</style>\n",
       "<table border=\"1\" class=\"dataframe\">\n",
       "  <thead>\n",
       "    <tr style=\"text-align: right;\">\n",
       "      <th></th>\n",
       "      <th>invoice_date</th>\n",
       "      <th>customer</th>\n",
       "      <th>amount</th>\n",
       "      <th>invoice_date_converted</th>\n",
       "    </tr>\n",
       "  </thead>\n",
       "  <tbody>\n",
       "    <tr>\n",
       "      <th>0</th>\n",
       "      <td>24. 07. 2021</td>\n",
       "      <td>Robbins-Bryant</td>\n",
       "      <td>42424.49</td>\n",
       "      <td>2021-07-24</td>\n",
       "    </tr>\n",
       "    <tr>\n",
       "      <th>1</th>\n",
       "      <td>03. 06. 2021</td>\n",
       "      <td>Little, Espinoza and Manning</td>\n",
       "      <td>6269.53</td>\n",
       "      <td>2021-06-03</td>\n",
       "    </tr>\n",
       "    <tr>\n",
       "      <th>2</th>\n",
       "      <td>24. 06. 2021</td>\n",
       "      <td>Hartman-Garcia</td>\n",
       "      <td>19182.55</td>\n",
       "      <td>2021-06-24</td>\n",
       "    </tr>\n",
       "    <tr>\n",
       "      <th>3</th>\n",
       "      <td>09. 08. 2021</td>\n",
       "      <td>Mason, Armstrong and Whitaker</td>\n",
       "      <td>66295.23</td>\n",
       "      <td>2021-08-09</td>\n",
       "    </tr>\n",
       "    <tr>\n",
       "      <th>4</th>\n",
       "      <td>29. 06. 2021</td>\n",
       "      <td>Dickerson-Blankenship</td>\n",
       "      <td>88592.58</td>\n",
       "      <td>2021-06-29</td>\n",
       "    </tr>\n",
       "  </tbody>\n",
       "</table>\n",
       "</div>"
      ],
      "text/plain": [
       "   invoice_date                       customer    amount   \n",
       "0  24. 07. 2021                 Robbins-Bryant  42424.49  \\\n",
       "1  03. 06. 2021   Little, Espinoza and Manning   6269.53   \n",
       "2  24. 06. 2021                 Hartman-Garcia  19182.55   \n",
       "3  09. 08. 2021  Mason, Armstrong and Whitaker  66295.23   \n",
       "4  29. 06. 2021          Dickerson-Blankenship  88592.58   \n",
       "\n",
       "  invoice_date_converted  \n",
       "0             2021-07-24  \n",
       "1             2021-06-03  \n",
       "2             2021-06-24  \n",
       "3             2021-08-09  \n",
       "4             2021-06-29  "
      ]
     },
     "execution_count": 53,
     "metadata": {},
     "output_type": "execute_result"
    }
   ],
   "source": [
    "invoices[\"invoice_date_converted\"] = pandas.to_datetime(invoices[\"invoice_date\"], dayfirst=True)\n",
    "invoices.head()"
   ]
  },
  {
   "attachments": {},
   "cell_type": "markdown",
   "metadata": {},
   "source": [
    "## Přičítání a porovnávání\n",
    "\n",
    "Každá faktura má nějaký datum splatnosti. Nyní chceme přidat sloupec s datem splatnosti s tím, že datum splatnosti je vždy 60 dní po vystavení faktury. K tomu využijeme třídu `Timedelta` modulu `pandas`.\n",
    "\n",
    "Třída umožňuje poměrně jednoduché vytvoření hodnoty zápisem `\"60 days\"` coby řetězce. Alternativně můžeme použít [ISO normu](https://en.wikipedia.org/wiki/ISO_8601#Durations) pro zápis délky trvání a zapsat \"P60D\"."
   ]
  },
  {
   "cell_type": "code",
   "execution_count": 54,
   "metadata": {},
   "outputs": [
    {
     "data": {
      "text/html": [
       "<div>\n",
       "<style scoped>\n",
       "    .dataframe tbody tr th:only-of-type {\n",
       "        vertical-align: middle;\n",
       "    }\n",
       "\n",
       "    .dataframe tbody tr th {\n",
       "        vertical-align: top;\n",
       "    }\n",
       "\n",
       "    .dataframe thead th {\n",
       "        text-align: right;\n",
       "    }\n",
       "</style>\n",
       "<table border=\"1\" class=\"dataframe\">\n",
       "  <thead>\n",
       "    <tr style=\"text-align: right;\">\n",
       "      <th></th>\n",
       "      <th>invoice_date</th>\n",
       "      <th>customer</th>\n",
       "      <th>amount</th>\n",
       "      <th>invoice_date_converted</th>\n",
       "      <th>due_date</th>\n",
       "    </tr>\n",
       "  </thead>\n",
       "  <tbody>\n",
       "    <tr>\n",
       "      <th>0</th>\n",
       "      <td>24. 07. 2021</td>\n",
       "      <td>Robbins-Bryant</td>\n",
       "      <td>42424.49</td>\n",
       "      <td>2021-07-24</td>\n",
       "      <td>2021-09-22</td>\n",
       "    </tr>\n",
       "    <tr>\n",
       "      <th>1</th>\n",
       "      <td>03. 06. 2021</td>\n",
       "      <td>Little, Espinoza and Manning</td>\n",
       "      <td>6269.53</td>\n",
       "      <td>2021-06-03</td>\n",
       "      <td>2021-08-02</td>\n",
       "    </tr>\n",
       "    <tr>\n",
       "      <th>2</th>\n",
       "      <td>24. 06. 2021</td>\n",
       "      <td>Hartman-Garcia</td>\n",
       "      <td>19182.55</td>\n",
       "      <td>2021-06-24</td>\n",
       "      <td>2021-08-23</td>\n",
       "    </tr>\n",
       "    <tr>\n",
       "      <th>3</th>\n",
       "      <td>09. 08. 2021</td>\n",
       "      <td>Mason, Armstrong and Whitaker</td>\n",
       "      <td>66295.23</td>\n",
       "      <td>2021-08-09</td>\n",
       "      <td>2021-10-08</td>\n",
       "    </tr>\n",
       "    <tr>\n",
       "      <th>4</th>\n",
       "      <td>29. 06. 2021</td>\n",
       "      <td>Dickerson-Blankenship</td>\n",
       "      <td>88592.58</td>\n",
       "      <td>2021-06-29</td>\n",
       "      <td>2021-08-28</td>\n",
       "    </tr>\n",
       "  </tbody>\n",
       "</table>\n",
       "</div>"
      ],
      "text/plain": [
       "   invoice_date                       customer    amount   \n",
       "0  24. 07. 2021                 Robbins-Bryant  42424.49  \\\n",
       "1  03. 06. 2021   Little, Espinoza and Manning   6269.53   \n",
       "2  24. 06. 2021                 Hartman-Garcia  19182.55   \n",
       "3  09. 08. 2021  Mason, Armstrong and Whitaker  66295.23   \n",
       "4  29. 06. 2021          Dickerson-Blankenship  88592.58   \n",
       "\n",
       "  invoice_date_converted   due_date  \n",
       "0             2021-07-24 2021-09-22  \n",
       "1             2021-06-03 2021-08-02  \n",
       "2             2021-06-24 2021-08-23  \n",
       "3             2021-08-09 2021-10-08  \n",
       "4             2021-06-29 2021-08-28  "
      ]
     },
     "execution_count": 54,
     "metadata": {},
     "output_type": "execute_result"
    }
   ],
   "source": [
    "invoices[\"due_date\"] = invoices[\"invoice_date_converted\"] + pandas.Timedelta(\"P60D\")\n",
    "invoices.head()"
   ]
  },
  {
   "attachments": {},
   "cell_type": "markdown",
   "metadata": {},
   "source": [
    "Pojďme nyní roztřídit faktury na ty, které jsou před splatností a ty, které jsou po splatnosti. Třídění budeme provádět k 1. září 2021. Vytvoříme tedy objekt, který reprezentuje toto datum (využijeme standardní modul `datetime`) a funkci `where()` z modulu `numpy`, která slouží k zápisu podmínky.\n",
    "\n",
    "Přidáme sloupec `status`, který bude obsahovat texty `overdue` a `before due date`."
   ]
  },
  {
   "cell_type": "code",
   "execution_count": 55,
   "metadata": {},
   "outputs": [
    {
     "data": {
      "text/html": [
       "<div>\n",
       "<style scoped>\n",
       "    .dataframe tbody tr th:only-of-type {\n",
       "        vertical-align: middle;\n",
       "    }\n",
       "\n",
       "    .dataframe tbody tr th {\n",
       "        vertical-align: top;\n",
       "    }\n",
       "\n",
       "    .dataframe thead th {\n",
       "        text-align: right;\n",
       "    }\n",
       "</style>\n",
       "<table border=\"1\" class=\"dataframe\">\n",
       "  <thead>\n",
       "    <tr style=\"text-align: right;\">\n",
       "      <th></th>\n",
       "      <th>invoice_date</th>\n",
       "      <th>customer</th>\n",
       "      <th>amount</th>\n",
       "      <th>invoice_date_converted</th>\n",
       "      <th>due_date</th>\n",
       "      <th>status</th>\n",
       "    </tr>\n",
       "  </thead>\n",
       "  <tbody>\n",
       "    <tr>\n",
       "      <th>0</th>\n",
       "      <td>24. 07. 2021</td>\n",
       "      <td>Robbins-Bryant</td>\n",
       "      <td>42424.49</td>\n",
       "      <td>2021-07-24</td>\n",
       "      <td>2021-09-22</td>\n",
       "      <td>before due date</td>\n",
       "    </tr>\n",
       "    <tr>\n",
       "      <th>1</th>\n",
       "      <td>03. 06. 2021</td>\n",
       "      <td>Little, Espinoza and Manning</td>\n",
       "      <td>6269.53</td>\n",
       "      <td>2021-06-03</td>\n",
       "      <td>2021-08-02</td>\n",
       "      <td>overdue</td>\n",
       "    </tr>\n",
       "    <tr>\n",
       "      <th>2</th>\n",
       "      <td>24. 06. 2021</td>\n",
       "      <td>Hartman-Garcia</td>\n",
       "      <td>19182.55</td>\n",
       "      <td>2021-06-24</td>\n",
       "      <td>2021-08-23</td>\n",
       "      <td>overdue</td>\n",
       "    </tr>\n",
       "    <tr>\n",
       "      <th>3</th>\n",
       "      <td>09. 08. 2021</td>\n",
       "      <td>Mason, Armstrong and Whitaker</td>\n",
       "      <td>66295.23</td>\n",
       "      <td>2021-08-09</td>\n",
       "      <td>2021-10-08</td>\n",
       "      <td>before due date</td>\n",
       "    </tr>\n",
       "    <tr>\n",
       "      <th>4</th>\n",
       "      <td>29. 06. 2021</td>\n",
       "      <td>Dickerson-Blankenship</td>\n",
       "      <td>88592.58</td>\n",
       "      <td>2021-06-29</td>\n",
       "      <td>2021-08-28</td>\n",
       "      <td>overdue</td>\n",
       "    </tr>\n",
       "  </tbody>\n",
       "</table>\n",
       "</div>"
      ],
      "text/plain": [
       "   invoice_date                       customer    amount   \n",
       "0  24. 07. 2021                 Robbins-Bryant  42424.49  \\\n",
       "1  03. 06. 2021   Little, Espinoza and Manning   6269.53   \n",
       "2  24. 06. 2021                 Hartman-Garcia  19182.55   \n",
       "3  09. 08. 2021  Mason, Armstrong and Whitaker  66295.23   \n",
       "4  29. 06. 2021          Dickerson-Blankenship  88592.58   \n",
       "\n",
       "  invoice_date_converted   due_date           status  \n",
       "0             2021-07-24 2021-09-22  before due date  \n",
       "1             2021-06-03 2021-08-02          overdue  \n",
       "2             2021-06-24 2021-08-23          overdue  \n",
       "3             2021-08-09 2021-10-08  before due date  \n",
       "4             2021-06-29 2021-08-28          overdue  "
      ]
     },
     "execution_count": 55,
     "metadata": {},
     "output_type": "execute_result"
    }
   ],
   "source": [
    "import numpy\n",
    "import datetime\n",
    "today_date = datetime.datetime(2021, 9, 1)\n",
    "invoices[\"status\"] = numpy.where(invoices[\"due_date\"] < today_date, \"overdue\", \"before due date\")\n",
    "invoices.head()"
   ]
  },
  {
   "attachments": {},
   "cell_type": "markdown",
   "metadata": {},
   "source": [
    "Nakonec můžeme spočítat, jaké finanční prostředky jsou ve fakturách před splatností a jaké prostředky v nezaplacených fakturách po splatnosti."
   ]
  },
  {
   "cell_type": "code",
   "execution_count": 56,
   "metadata": {},
   "outputs": [
    {
     "data": {
      "text/plain": [
       "status\n",
       "before due date    2.383203e+09\n",
       "overdue            2.604655e+09\n",
       "Name: amount, dtype: float64"
      ]
     },
     "execution_count": 56,
     "metadata": {},
     "output_type": "execute_result"
    }
   ],
   "source": [
    "invoices.groupby(\"status\")[\"amount\"].sum()"
   ]
  },
  {
   "attachments": {},
   "cell_type": "markdown",
   "metadata": {},
   "source": [
    "## Výpočty s daty\n",
    "\n",
    "Máme-li k dispozici dva různé sloupce s daty, můžeme s nimi provádět výpočty, nejčastěji počítat rozdíl, tj. délku časového intervalu mezi nimi.\n",
    "\n",
    "Uvažujme, že nyní máme k dispozici delší časovou řadu faktur. Nejprve spočítáme, po kolika dnech v průměru zaplatí fakturu jednotliví zákazníci. Tuto hodnotu pak použijeme k výpočtu očekávané splatnosti nových faktur.\n",
    "\n",
    "Nejprve načteme tabulku s fakturami."
   ]
  },
  {
   "cell_type": "code",
   "execution_count": 57,
   "metadata": {},
   "outputs": [
    {
     "data": {
      "text/html": [
       "<div>\n",
       "<style scoped>\n",
       "    .dataframe tbody tr th:only-of-type {\n",
       "        vertical-align: middle;\n",
       "    }\n",
       "\n",
       "    .dataframe tbody tr th {\n",
       "        vertical-align: top;\n",
       "    }\n",
       "\n",
       "    .dataframe thead th {\n",
       "        text-align: right;\n",
       "    }\n",
       "</style>\n",
       "<table border=\"1\" class=\"dataframe\">\n",
       "  <thead>\n",
       "    <tr style=\"text-align: right;\">\n",
       "      <th></th>\n",
       "      <th>invoice_date</th>\n",
       "      <th>customer</th>\n",
       "      <th>amount</th>\n",
       "      <th>payment_date</th>\n",
       "    </tr>\n",
       "  </thead>\n",
       "  <tbody>\n",
       "    <tr>\n",
       "      <th>0</th>\n",
       "      <td>2016-05-01</td>\n",
       "      <td>Campos PLC</td>\n",
       "      <td>29366</td>\n",
       "      <td>25. 06. 2016</td>\n",
       "    </tr>\n",
       "    <tr>\n",
       "      <th>1</th>\n",
       "      <td>2016-05-10</td>\n",
       "      <td>Garcia, Hamilton and Carr</td>\n",
       "      <td>61145</td>\n",
       "      <td>16. 07. 2016</td>\n",
       "    </tr>\n",
       "    <tr>\n",
       "      <th>2</th>\n",
       "      <td>2016-05-20</td>\n",
       "      <td>Garcia, Hamilton and Carr</td>\n",
       "      <td>92659</td>\n",
       "      <td>26. 07. 2016</td>\n",
       "    </tr>\n",
       "    <tr>\n",
       "      <th>3</th>\n",
       "      <td>2016-05-25</td>\n",
       "      <td>Nguyen, Harrell and Lee</td>\n",
       "      <td>40076</td>\n",
       "      <td>05. 08. 2016</td>\n",
       "    </tr>\n",
       "    <tr>\n",
       "      <th>4</th>\n",
       "      <td>2016-06-04</td>\n",
       "      <td>Garcia, Hamilton and Carr</td>\n",
       "      <td>54854</td>\n",
       "      <td>06. 08. 2016</td>\n",
       "    </tr>\n",
       "  </tbody>\n",
       "</table>\n",
       "</div>"
      ],
      "text/plain": [
       "  invoice_date                   customer  amount  payment_date\n",
       "0   2016-05-01                 Campos PLC   29366  25. 06. 2016\n",
       "1   2016-05-10  Garcia, Hamilton and Carr   61145  16. 07. 2016\n",
       "2   2016-05-20  Garcia, Hamilton and Carr   92659  26. 07. 2016\n",
       "3   2016-05-25    Nguyen, Harrell and Lee   40076  05. 08. 2016\n",
       "4   2016-06-04  Garcia, Hamilton and Carr   54854  06. 08. 2016"
      ]
     },
     "execution_count": 57,
     "metadata": {},
     "output_type": "execute_result"
    }
   ],
   "source": [
    "invoices_2 = pandas.read_csv(\"invoices_2.csv\")\n",
    "invoices_2[\"invoice_date\"] = pandas.to_datetime(invoices_2[\"invoice_date\"], dayfirst=True)\n",
    "invoices_2.head()"
   ]
  },
  {
   "attachments": {},
   "cell_type": "markdown",
   "metadata": {},
   "source": [
    "V první části se budeme zabývat splacenými fakturami. Splacené faktury mají prázdnou hodnotu ve sloupci `payment_date`, vyfiltrujeme je pomocí metody `dropna`. Čas, který zákazník potřeboval na splacení faktury, získáme pomocí rozdílu sloupců `payment_date` a `invoice_date`."
   ]
  },
  {
   "cell_type": "code",
   "execution_count": 58,
   "metadata": {},
   "outputs": [
    {
     "data": {
      "text/html": [
       "<div>\n",
       "<style scoped>\n",
       "    .dataframe tbody tr th:only-of-type {\n",
       "        vertical-align: middle;\n",
       "    }\n",
       "\n",
       "    .dataframe tbody tr th {\n",
       "        vertical-align: top;\n",
       "    }\n",
       "\n",
       "    .dataframe thead th {\n",
       "        text-align: right;\n",
       "    }\n",
       "</style>\n",
       "<table border=\"1\" class=\"dataframe\">\n",
       "  <thead>\n",
       "    <tr style=\"text-align: right;\">\n",
       "      <th></th>\n",
       "      <th>invoice_date</th>\n",
       "      <th>customer</th>\n",
       "      <th>amount</th>\n",
       "      <th>payment_date</th>\n",
       "      <th>paid_in</th>\n",
       "    </tr>\n",
       "  </thead>\n",
       "  <tbody>\n",
       "    <tr>\n",
       "      <th>0</th>\n",
       "      <td>2016-05-01</td>\n",
       "      <td>Campos PLC</td>\n",
       "      <td>29366</td>\n",
       "      <td>2016-06-25</td>\n",
       "      <td>55 days</td>\n",
       "    </tr>\n",
       "    <tr>\n",
       "      <th>1</th>\n",
       "      <td>2016-05-10</td>\n",
       "      <td>Garcia, Hamilton and Carr</td>\n",
       "      <td>61145</td>\n",
       "      <td>2016-07-16</td>\n",
       "      <td>67 days</td>\n",
       "    </tr>\n",
       "    <tr>\n",
       "      <th>2</th>\n",
       "      <td>2016-05-20</td>\n",
       "      <td>Garcia, Hamilton and Carr</td>\n",
       "      <td>92659</td>\n",
       "      <td>2016-07-26</td>\n",
       "      <td>67 days</td>\n",
       "    </tr>\n",
       "    <tr>\n",
       "      <th>3</th>\n",
       "      <td>2016-05-25</td>\n",
       "      <td>Nguyen, Harrell and Lee</td>\n",
       "      <td>40076</td>\n",
       "      <td>2016-08-05</td>\n",
       "      <td>72 days</td>\n",
       "    </tr>\n",
       "    <tr>\n",
       "      <th>4</th>\n",
       "      <td>2016-06-04</td>\n",
       "      <td>Garcia, Hamilton and Carr</td>\n",
       "      <td>54854</td>\n",
       "      <td>2016-08-06</td>\n",
       "      <td>63 days</td>\n",
       "    </tr>\n",
       "  </tbody>\n",
       "</table>\n",
       "</div>"
      ],
      "text/plain": [
       "  invoice_date                   customer  amount payment_date paid_in\n",
       "0   2016-05-01                 Campos PLC   29366   2016-06-25 55 days\n",
       "1   2016-05-10  Garcia, Hamilton and Carr   61145   2016-07-16 67 days\n",
       "2   2016-05-20  Garcia, Hamilton and Carr   92659   2016-07-26 67 days\n",
       "3   2016-05-25    Nguyen, Harrell and Lee   40076   2016-08-05 72 days\n",
       "4   2016-06-04  Garcia, Hamilton and Carr   54854   2016-08-06 63 days"
      ]
     },
     "execution_count": 58,
     "metadata": {},
     "output_type": "execute_result"
    }
   ],
   "source": [
    "invoices_2_paid = invoices_2.dropna().reset_index(drop=True)\n",
    "invoices_2_paid[\"payment_date\"] = pandas.to_datetime(invoices_2_paid[\"payment_date\"], format=\"%d. %m. %Y\")\n",
    "invoices_2_paid[\"paid_in\"] = invoices_2_paid[\"payment_date\"] - invoices_2_paid[\"invoice_date\"]\n",
    "invoices_2_paid.head()"
   ]
  },
  {
   "attachments": {},
   "cell_type": "markdown",
   "metadata": {},
   "source": [
    "Hodnota rozdílu je uložené jako datový typ `timedelta`."
   ]
  },
  {
   "cell_type": "code",
   "execution_count": 59,
   "metadata": {},
   "outputs": [
    {
     "data": {
      "text/plain": [
       "invoice_date     datetime64[ns]\n",
       "customer                 object\n",
       "amount                    int64\n",
       "payment_date     datetime64[ns]\n",
       "paid_in         timedelta64[ns]\n",
       "dtype: object"
      ]
     },
     "execution_count": 59,
     "metadata": {},
     "output_type": "execute_result"
    }
   ],
   "source": [
    "invoices_2_paid.dtypes"
   ]
  },
  {
   "attachments": {},
   "cell_type": "markdown",
   "metadata": {},
   "source": [
    "Nyní provedeme agregaci dle zákazníka a zjistíme tak průměrnou dobu splatnosti faktury."
   ]
  },
  {
   "cell_type": "code",
   "execution_count": 60,
   "metadata": {},
   "outputs": [
    {
     "data": {
      "text/html": [
       "<div>\n",
       "<style scoped>\n",
       "    .dataframe tbody tr th:only-of-type {\n",
       "        vertical-align: middle;\n",
       "    }\n",
       "\n",
       "    .dataframe tbody tr th {\n",
       "        vertical-align: top;\n",
       "    }\n",
       "\n",
       "    .dataframe thead th {\n",
       "        text-align: right;\n",
       "    }\n",
       "</style>\n",
       "<table border=\"1\" class=\"dataframe\">\n",
       "  <thead>\n",
       "    <tr style=\"text-align: right;\">\n",
       "      <th></th>\n",
       "      <th>paid_in</th>\n",
       "    </tr>\n",
       "    <tr>\n",
       "      <th>customer</th>\n",
       "      <th></th>\n",
       "    </tr>\n",
       "  </thead>\n",
       "  <tbody>\n",
       "    <tr>\n",
       "      <th>Archer-Patel</th>\n",
       "      <td>46 days 20:34:17.142857143</td>\n",
       "    </tr>\n",
       "    <tr>\n",
       "      <th>Campos PLC</th>\n",
       "      <td>60 days 00:00:00</td>\n",
       "    </tr>\n",
       "    <tr>\n",
       "      <th>Chang-Fisher</th>\n",
       "      <td>63 days 05:20:00</td>\n",
       "    </tr>\n",
       "    <tr>\n",
       "      <th>Clayton-Cook</th>\n",
       "      <td>69 days 22:09:13.846153846</td>\n",
       "    </tr>\n",
       "    <tr>\n",
       "      <th>Faulkner-Howard</th>\n",
       "      <td>74 days 06:32:43.636363636</td>\n",
       "    </tr>\n",
       "  </tbody>\n",
       "</table>\n",
       "</div>"
      ],
      "text/plain": [
       "                                   paid_in\n",
       "customer                                  \n",
       "Archer-Patel    46 days 20:34:17.142857143\n",
       "Campos PLC                60 days 00:00:00\n",
       "Chang-Fisher              63 days 05:20:00\n",
       "Clayton-Cook    69 days 22:09:13.846153846\n",
       "Faulkner-Howard 74 days 06:32:43.636363636"
      ]
     },
     "execution_count": 60,
     "metadata": {},
     "output_type": "execute_result"
    }
   ],
   "source": [
    "average_payment_data = pandas.DataFrame(invoices_2_paid.groupby([\"customer\"])[\"paid_in\"].mean())\n",
    "average_payment_data.head()"
   ]
  },
  {
   "attachments": {},
   "cell_type": "markdown",
   "metadata": {},
   "source": [
    "Nyní budeme pracovat s nesplacenými fakturami, které získáme např. dotazem s využitím metody `isna()`. Poté propojíme tabulku s nesplacenými fakturami s tabulkou průměrných splatností a přičteme průměrnou dobu splatnosti k datu vystavení faktury. Abychom získali splatnost jako den, použijeme vlastnost `dt.date`."
   ]
  },
  {
   "cell_type": "code",
   "execution_count": 61,
   "metadata": {},
   "outputs": [
    {
     "data": {
      "text/html": [
       "<div>\n",
       "<style scoped>\n",
       "    .dataframe tbody tr th:only-of-type {\n",
       "        vertical-align: middle;\n",
       "    }\n",
       "\n",
       "    .dataframe tbody tr th {\n",
       "        vertical-align: top;\n",
       "    }\n",
       "\n",
       "    .dataframe thead th {\n",
       "        text-align: right;\n",
       "    }\n",
       "</style>\n",
       "<table border=\"1\" class=\"dataframe\">\n",
       "  <thead>\n",
       "    <tr style=\"text-align: right;\">\n",
       "      <th></th>\n",
       "      <th>invoice_date</th>\n",
       "      <th>customer</th>\n",
       "      <th>amount</th>\n",
       "      <th>payment_date</th>\n",
       "      <th>paid_in</th>\n",
       "      <th>expected_payment_date</th>\n",
       "    </tr>\n",
       "  </thead>\n",
       "  <tbody>\n",
       "    <tr>\n",
       "      <th>0</th>\n",
       "      <td>2021-07-02</td>\n",
       "      <td>Nguyen, Harrell and Lee</td>\n",
       "      <td>93301</td>\n",
       "      <td>NaN</td>\n",
       "      <td>67 days 05:08:34.285714286</td>\n",
       "      <td>2021-09-07</td>\n",
       "    </tr>\n",
       "    <tr>\n",
       "      <th>1</th>\n",
       "      <td>2021-07-09</td>\n",
       "      <td>Levy Group</td>\n",
       "      <td>43621</td>\n",
       "      <td>NaN</td>\n",
       "      <td>65 days 00:00:00</td>\n",
       "      <td>2021-09-12</td>\n",
       "    </tr>\n",
       "    <tr>\n",
       "      <th>2</th>\n",
       "      <td>2021-08-05</td>\n",
       "      <td>Levy Group</td>\n",
       "      <td>39651</td>\n",
       "      <td>NaN</td>\n",
       "      <td>65 days 00:00:00</td>\n",
       "      <td>2021-10-09</td>\n",
       "    </tr>\n",
       "    <tr>\n",
       "      <th>3</th>\n",
       "      <td>2021-07-16</td>\n",
       "      <td>Wagner LLC</td>\n",
       "      <td>65064</td>\n",
       "      <td>NaN</td>\n",
       "      <td>58 days 05:08:34.285714286</td>\n",
       "      <td>2021-09-12</td>\n",
       "    </tr>\n",
       "    <tr>\n",
       "      <th>4</th>\n",
       "      <td>2021-07-22</td>\n",
       "      <td>Jones, Jefferson and Rivera</td>\n",
       "      <td>98317</td>\n",
       "      <td>NaN</td>\n",
       "      <td>71 days 15:00:00</td>\n",
       "      <td>2021-10-01</td>\n",
       "    </tr>\n",
       "  </tbody>\n",
       "</table>\n",
       "</div>"
      ],
      "text/plain": [
       "  invoice_date                     customer  amount payment_date   \n",
       "0   2021-07-02      Nguyen, Harrell and Lee   93301          NaN  \\\n",
       "1   2021-07-09                   Levy Group   43621          NaN   \n",
       "2   2021-08-05                   Levy Group   39651          NaN   \n",
       "3   2021-07-16                   Wagner LLC   65064          NaN   \n",
       "4   2021-07-22  Jones, Jefferson and Rivera   98317          NaN   \n",
       "\n",
       "                     paid_in expected_payment_date  \n",
       "0 67 days 05:08:34.285714286            2021-09-07  \n",
       "1           65 days 00:00:00            2021-09-12  \n",
       "2           65 days 00:00:00            2021-10-09  \n",
       "3 58 days 05:08:34.285714286            2021-09-12  \n",
       "4           71 days 15:00:00            2021-10-01  "
      ]
     },
     "execution_count": 61,
     "metadata": {},
     "output_type": "execute_result"
    }
   ],
   "source": [
    "invoices_2_not_paid = invoices_2[invoices_2[\"payment_date\"].isna()]\n",
    "invoices_2_not_paid = pandas.merge(invoices_2_not_paid, average_payment_data, on=[\"customer\"])\n",
    "invoices_2_not_paid[\"expected_payment_date\"] = invoices_2_not_paid[\"invoice_date\"] + pandas.to_timedelta(invoices_2_not_paid[\"paid_in\"], unit=\"D\")\n",
    "invoices_2_not_paid[\"expected_payment_date\"] = invoices_2_not_paid[\"expected_payment_date\"].dt.date\n",
    "invoices_2_not_paid.head()"
   ]
  },
  {
   "attachments": {},
   "cell_type": "markdown",
   "metadata": {},
   "source": [
    "## Použití metody shift\n",
    "\n",
    "V některých případech se v datech potřebujeme podívat o řádek výše nebo níže, často to může být v souvislosti s datem a časem. Uvažujme například nějaký program, který zapisuje začátek a konec nějaké události. Událost a její typ vždy zapíše jako samostatný řádek. Abychom zjistili délku události, potřebujeme spočítat rozdíl mezi hodnotami data a času ve dvou řádích. K tomu slouží metoda `shift`.\n",
    "\n",
    "Uvažujme například zařízení, které monitoruje výpadky televizního signálu. Zařízení zapisuje záznamy o začátku a konci výpadku do logovacího souboru.\n"
   ]
  },
  {
   "cell_type": "code",
   "execution_count": 62,
   "metadata": {},
   "outputs": [
    {
     "ename": "FileNotFoundError",
     "evalue": "[Errno 2] No such file or directory: 'signal_monitoring.csv'",
     "output_type": "error",
     "traceback": [
      "\u001b[1;31m---------------------------------------------------------------------------\u001b[0m",
      "\u001b[1;31mFileNotFoundError\u001b[0m                         Traceback (most recent call last)",
      "Cell \u001b[1;32mIn[62], line 1\u001b[0m\n\u001b[1;32m----> 1\u001b[0m signal_monitoring \u001b[39m=\u001b[39m pandas\u001b[39m.\u001b[39;49mread_csv(\u001b[39m\"\u001b[39;49m\u001b[39msignal_monitoring.csv\u001b[39;49m\u001b[39m\"\u001b[39;49m)\n\u001b[0;32m      2\u001b[0m signal_monitoring[\u001b[39m\"\u001b[39m\u001b[39mevent_date_time\u001b[39m\u001b[39m\"\u001b[39m] \u001b[39m=\u001b[39m pandas\u001b[39m.\u001b[39mto_datetime(signal_monitoring[\u001b[39m\"\u001b[39m\u001b[39mevent_date_time\u001b[39m\u001b[39m\"\u001b[39m])\n\u001b[0;32m      3\u001b[0m signal_monitoring\u001b[39m.\u001b[39mhead()\n",
      "File \u001b[1;32mc:\\Users\\jiri.pesik.HULD\\AppData\\Local\\Programs\\Python\\Python311\\Lib\\site-packages\\pandas\\io\\parsers\\readers.py:912\u001b[0m, in \u001b[0;36mread_csv\u001b[1;34m(filepath_or_buffer, sep, delimiter, header, names, index_col, usecols, dtype, engine, converters, true_values, false_values, skipinitialspace, skiprows, skipfooter, nrows, na_values, keep_default_na, na_filter, verbose, skip_blank_lines, parse_dates, infer_datetime_format, keep_date_col, date_parser, date_format, dayfirst, cache_dates, iterator, chunksize, compression, thousands, decimal, lineterminator, quotechar, quoting, doublequote, escapechar, comment, encoding, encoding_errors, dialect, on_bad_lines, delim_whitespace, low_memory, memory_map, float_precision, storage_options, dtype_backend)\u001b[0m\n\u001b[0;32m    899\u001b[0m kwds_defaults \u001b[39m=\u001b[39m _refine_defaults_read(\n\u001b[0;32m    900\u001b[0m     dialect,\n\u001b[0;32m    901\u001b[0m     delimiter,\n\u001b[1;32m   (...)\u001b[0m\n\u001b[0;32m    908\u001b[0m     dtype_backend\u001b[39m=\u001b[39mdtype_backend,\n\u001b[0;32m    909\u001b[0m )\n\u001b[0;32m    910\u001b[0m kwds\u001b[39m.\u001b[39mupdate(kwds_defaults)\n\u001b[1;32m--> 912\u001b[0m \u001b[39mreturn\u001b[39;00m _read(filepath_or_buffer, kwds)\n",
      "File \u001b[1;32mc:\\Users\\jiri.pesik.HULD\\AppData\\Local\\Programs\\Python\\Python311\\Lib\\site-packages\\pandas\\io\\parsers\\readers.py:577\u001b[0m, in \u001b[0;36m_read\u001b[1;34m(filepath_or_buffer, kwds)\u001b[0m\n\u001b[0;32m    574\u001b[0m _validate_names(kwds\u001b[39m.\u001b[39mget(\u001b[39m\"\u001b[39m\u001b[39mnames\u001b[39m\u001b[39m\"\u001b[39m, \u001b[39mNone\u001b[39;00m))\n\u001b[0;32m    576\u001b[0m \u001b[39m# Create the parser.\u001b[39;00m\n\u001b[1;32m--> 577\u001b[0m parser \u001b[39m=\u001b[39m TextFileReader(filepath_or_buffer, \u001b[39m*\u001b[39;49m\u001b[39m*\u001b[39;49mkwds)\n\u001b[0;32m    579\u001b[0m \u001b[39mif\u001b[39;00m chunksize \u001b[39mor\u001b[39;00m iterator:\n\u001b[0;32m    580\u001b[0m     \u001b[39mreturn\u001b[39;00m parser\n",
      "File \u001b[1;32mc:\\Users\\jiri.pesik.HULD\\AppData\\Local\\Programs\\Python\\Python311\\Lib\\site-packages\\pandas\\io\\parsers\\readers.py:1407\u001b[0m, in \u001b[0;36mTextFileReader.__init__\u001b[1;34m(self, f, engine, **kwds)\u001b[0m\n\u001b[0;32m   1404\u001b[0m     \u001b[39mself\u001b[39m\u001b[39m.\u001b[39moptions[\u001b[39m\"\u001b[39m\u001b[39mhas_index_names\u001b[39m\u001b[39m\"\u001b[39m] \u001b[39m=\u001b[39m kwds[\u001b[39m\"\u001b[39m\u001b[39mhas_index_names\u001b[39m\u001b[39m\"\u001b[39m]\n\u001b[0;32m   1406\u001b[0m \u001b[39mself\u001b[39m\u001b[39m.\u001b[39mhandles: IOHandles \u001b[39m|\u001b[39m \u001b[39mNone\u001b[39;00m \u001b[39m=\u001b[39m \u001b[39mNone\u001b[39;00m\n\u001b[1;32m-> 1407\u001b[0m \u001b[39mself\u001b[39m\u001b[39m.\u001b[39m_engine \u001b[39m=\u001b[39m \u001b[39mself\u001b[39;49m\u001b[39m.\u001b[39;49m_make_engine(f, \u001b[39mself\u001b[39;49m\u001b[39m.\u001b[39;49mengine)\n",
      "File \u001b[1;32mc:\\Users\\jiri.pesik.HULD\\AppData\\Local\\Programs\\Python\\Python311\\Lib\\site-packages\\pandas\\io\\parsers\\readers.py:1661\u001b[0m, in \u001b[0;36mTextFileReader._make_engine\u001b[1;34m(self, f, engine)\u001b[0m\n\u001b[0;32m   1659\u001b[0m     \u001b[39mif\u001b[39;00m \u001b[39m\"\u001b[39m\u001b[39mb\u001b[39m\u001b[39m\"\u001b[39m \u001b[39mnot\u001b[39;00m \u001b[39min\u001b[39;00m mode:\n\u001b[0;32m   1660\u001b[0m         mode \u001b[39m+\u001b[39m\u001b[39m=\u001b[39m \u001b[39m\"\u001b[39m\u001b[39mb\u001b[39m\u001b[39m\"\u001b[39m\n\u001b[1;32m-> 1661\u001b[0m \u001b[39mself\u001b[39m\u001b[39m.\u001b[39mhandles \u001b[39m=\u001b[39m get_handle(\n\u001b[0;32m   1662\u001b[0m     f,\n\u001b[0;32m   1663\u001b[0m     mode,\n\u001b[0;32m   1664\u001b[0m     encoding\u001b[39m=\u001b[39;49m\u001b[39mself\u001b[39;49m\u001b[39m.\u001b[39;49moptions\u001b[39m.\u001b[39;49mget(\u001b[39m\"\u001b[39;49m\u001b[39mencoding\u001b[39;49m\u001b[39m\"\u001b[39;49m, \u001b[39mNone\u001b[39;49;00m),\n\u001b[0;32m   1665\u001b[0m     compression\u001b[39m=\u001b[39;49m\u001b[39mself\u001b[39;49m\u001b[39m.\u001b[39;49moptions\u001b[39m.\u001b[39;49mget(\u001b[39m\"\u001b[39;49m\u001b[39mcompression\u001b[39;49m\u001b[39m\"\u001b[39;49m, \u001b[39mNone\u001b[39;49;00m),\n\u001b[0;32m   1666\u001b[0m     memory_map\u001b[39m=\u001b[39;49m\u001b[39mself\u001b[39;49m\u001b[39m.\u001b[39;49moptions\u001b[39m.\u001b[39;49mget(\u001b[39m\"\u001b[39;49m\u001b[39mmemory_map\u001b[39;49m\u001b[39m\"\u001b[39;49m, \u001b[39mFalse\u001b[39;49;00m),\n\u001b[0;32m   1667\u001b[0m     is_text\u001b[39m=\u001b[39;49mis_text,\n\u001b[0;32m   1668\u001b[0m     errors\u001b[39m=\u001b[39;49m\u001b[39mself\u001b[39;49m\u001b[39m.\u001b[39;49moptions\u001b[39m.\u001b[39;49mget(\u001b[39m\"\u001b[39;49m\u001b[39mencoding_errors\u001b[39;49m\u001b[39m\"\u001b[39;49m, \u001b[39m\"\u001b[39;49m\u001b[39mstrict\u001b[39;49m\u001b[39m\"\u001b[39;49m),\n\u001b[0;32m   1669\u001b[0m     storage_options\u001b[39m=\u001b[39;49m\u001b[39mself\u001b[39;49m\u001b[39m.\u001b[39;49moptions\u001b[39m.\u001b[39;49mget(\u001b[39m\"\u001b[39;49m\u001b[39mstorage_options\u001b[39;49m\u001b[39m\"\u001b[39;49m, \u001b[39mNone\u001b[39;49;00m),\n\u001b[0;32m   1670\u001b[0m )\n\u001b[0;32m   1671\u001b[0m \u001b[39massert\u001b[39;00m \u001b[39mself\u001b[39m\u001b[39m.\u001b[39mhandles \u001b[39mis\u001b[39;00m \u001b[39mnot\u001b[39;00m \u001b[39mNone\u001b[39;00m\n\u001b[0;32m   1672\u001b[0m f \u001b[39m=\u001b[39m \u001b[39mself\u001b[39m\u001b[39m.\u001b[39mhandles\u001b[39m.\u001b[39mhandle\n",
      "File \u001b[1;32mc:\\Users\\jiri.pesik.HULD\\AppData\\Local\\Programs\\Python\\Python311\\Lib\\site-packages\\pandas\\io\\common.py:859\u001b[0m, in \u001b[0;36mget_handle\u001b[1;34m(path_or_buf, mode, encoding, compression, memory_map, is_text, errors, storage_options)\u001b[0m\n\u001b[0;32m    854\u001b[0m \u001b[39melif\u001b[39;00m \u001b[39misinstance\u001b[39m(handle, \u001b[39mstr\u001b[39m):\n\u001b[0;32m    855\u001b[0m     \u001b[39m# Check whether the filename is to be opened in binary mode.\u001b[39;00m\n\u001b[0;32m    856\u001b[0m     \u001b[39m# Binary mode does not support 'encoding' and 'newline'.\u001b[39;00m\n\u001b[0;32m    857\u001b[0m     \u001b[39mif\u001b[39;00m ioargs\u001b[39m.\u001b[39mencoding \u001b[39mand\u001b[39;00m \u001b[39m\"\u001b[39m\u001b[39mb\u001b[39m\u001b[39m\"\u001b[39m \u001b[39mnot\u001b[39;00m \u001b[39min\u001b[39;00m ioargs\u001b[39m.\u001b[39mmode:\n\u001b[0;32m    858\u001b[0m         \u001b[39m# Encoding\u001b[39;00m\n\u001b[1;32m--> 859\u001b[0m         handle \u001b[39m=\u001b[39m \u001b[39mopen\u001b[39m(\n\u001b[0;32m    860\u001b[0m             handle,\n\u001b[0;32m    861\u001b[0m             ioargs\u001b[39m.\u001b[39mmode,\n\u001b[0;32m    862\u001b[0m             encoding\u001b[39m=\u001b[39mioargs\u001b[39m.\u001b[39mencoding,\n\u001b[0;32m    863\u001b[0m             errors\u001b[39m=\u001b[39merrors,\n\u001b[0;32m    864\u001b[0m             newline\u001b[39m=\u001b[39m\u001b[39m\"\u001b[39m\u001b[39m\"\u001b[39m,\n\u001b[0;32m    865\u001b[0m         )\n\u001b[0;32m    866\u001b[0m     \u001b[39melse\u001b[39;00m:\n\u001b[0;32m    867\u001b[0m         \u001b[39m# Binary mode\u001b[39;00m\n\u001b[0;32m    868\u001b[0m         handle \u001b[39m=\u001b[39m \u001b[39mopen\u001b[39m(handle, ioargs\u001b[39m.\u001b[39mmode)\n",
      "\u001b[1;31mFileNotFoundError\u001b[0m: [Errno 2] No such file or directory: 'signal_monitoring.csv'"
     ]
    }
   ],
   "source": [
    "signal_monitoring = pandas.read_csv(\"signal_monitoring.csv\")\n",
    "signal_monitoring[\"event_date_time\"] = pandas.to_datetime(signal_monitoring[\"event_date_time\"])\n",
    "signal_monitoring.head()"
   ]
  },
  {
   "attachments": {},
   "cell_type": "markdown",
   "metadata": {},
   "source": [
    "Nyní použijeme metodu `shift` na sloupec `event_date_time`. Pomocí metody pak přidáme k tabulce **nový sloupec**. Nejdůležitějším parametrem metody je parametr `periods`, který může mít kladnou nebo zápornou hodnotu.\n",
    "\n",
    "- Kladná hodnota parametru `periods` znamená, že hodnoty budou posunuty směrem dolů.\n",
    "- Záporná hodnota parametru `periods` znamená, že hodnoty budou posunuty směrem nahoru.\n",
    "\n",
    "Pro náš případ bude ideální, pokud posuneme hodnoty sloupce `event_date_time` o jeden řádek směrem nahoru. Tím zajistíme, že pokud má sloupec `event_type` hodnotu `signal lost`, uvidíme v jednom řádku začátek i konec výpadku. Tím padem bude stačit tyto hodnoty od sebe odečíst. Pro `event_type` `signal restored` nebude mít tato hodnota smysl, ale to nevadí, tyto řádky můžeme pomocí dotazu z tabulky odfiltrovat."
   ]
  },
  {
   "cell_type": "code",
   "execution_count": null,
   "metadata": {},
   "outputs": [
    {
     "ename": "NameError",
     "evalue": "name 'signal_monitoring' is not defined",
     "output_type": "error",
     "traceback": [
      "\u001b[1;31m---------------------------------------------------------------------------\u001b[0m",
      "\u001b[1;31mNameError\u001b[0m                                 Traceback (most recent call last)",
      "Cell \u001b[1;32mIn[49], line 1\u001b[0m\n\u001b[1;32m----> 1\u001b[0m signal_monitoring[\u001b[39m\"\u001b[39m\u001b[39mevent_end_date_time\u001b[39m\u001b[39m\"\u001b[39m] \u001b[39m=\u001b[39m signal_monitoring[\u001b[39m\"\u001b[39m\u001b[39mevent_date_time\u001b[39m\u001b[39m\"\u001b[39m]\u001b[39m.\u001b[39mshift(periods\u001b[39m=\u001b[39m\u001b[39m-\u001b[39m\u001b[39m1\u001b[39m)\n\u001b[0;32m      2\u001b[0m signal_monitoring\u001b[39m.\u001b[39mhead()\n",
      "\u001b[1;31mNameError\u001b[0m: name 'signal_monitoring' is not defined"
     ]
    }
   ],
   "source": [
    "signal_monitoring[\"event_end_date_time\"] = signal_monitoring[\"event_date_time\"].shift(periods=-1)\n",
    "signal_monitoring.head()"
   ]
  },
  {
   "attachments": {},
   "cell_type": "markdown",
   "metadata": {},
   "source": [
    "Nyní odebereme přebytečné řádky."
   ]
  },
  {
   "cell_type": "code",
   "execution_count": null,
   "metadata": {},
   "outputs": [],
   "source": [
    "signal_monitoring = signal_monitoring[signal_monitoring[\"event_type\"] == \"signal lost\"]\n",
    "signal_monitoring.head()"
   ]
  },
  {
   "attachments": {},
   "cell_type": "markdown",
   "metadata": {},
   "source": [
    "Nyní můžeme snadno přidat výpočet délky výpadku signálu."
   ]
  },
  {
   "cell_type": "code",
   "execution_count": null,
   "metadata": {},
   "outputs": [],
   "source": [
    "signal_monitoring[\"outage_length\"] = signal_monitoring[\"event_end_date_time\"] - signal_monitoring[\"event_date_time\"]\n",
    "signal_monitoring.head()"
   ]
  },
  {
   "attachments": {},
   "cell_type": "markdown",
   "metadata": {},
   "source": [
    "Nyní můžeme například vypočítat celkovou délku výpadků signálu v jednotlivých dnech."
   ]
  },
  {
   "cell_type": "code",
   "execution_count": null,
   "metadata": {},
   "outputs": [],
   "source": [
    "signal_monitoring_grouped = signal_monitoring.groupby(signal_monitoring[\"event_date_time\"].dt.date)[\"outage_length\"].sum()\n",
    "signal_monitoring_grouped.head()"
   ]
  },
  {
   "attachments": {},
   "cell_type": "markdown",
   "metadata": {},
   "source": [
    "Jako poslední krok si ukážeme, jak prezentovat výsledky našeho výpočtu pomocí grafu. Abychom mohli použít sloupcový graf, musíme převést typ `timedelta` na číselnou hodnotu. To zařídíme pomocí vlastnosti `dt.total_seconds`."
   ]
  },
  {
   "cell_type": "code",
   "execution_count": null,
   "metadata": {},
   "outputs": [],
   "source": [
    "signal_monitoring_grouped_seconds = signal_monitoring_grouped.dt.total_seconds()\n",
    "signal_monitoring_grouped_seconds.plot(kind=\"bar\")"
   ]
  },
  {
   "attachments": {},
   "cell_type": "markdown",
   "metadata": {},
   "source": [
    "# Čtení na doma\n",
    "\n",
    "## Odstraňování duplicit\n",
    "\n",
    "Duplicitami obecně myslíme opakující se hodnoty v datech. Duplicity mohou vzniknou v důsledku chyby, například:\n",
    "\n",
    "- program zapíše do databáze nebo do logu stejný údaj dvakrát,\n",
    "- vzniknou při propojení (`merge`) tabulek.\n",
    "\n",
    "V některých případech je duplicitní pouze část sloupc. Uvažujme data o registraci uživatelů ze souboru [user_registration.json](user_registration.json). V některých případech uživatel vyplnil registrační formulář do aplikace, ale nepotvrdil e-mailovou adresu (např. mu e-mail padl do spamu) a tak se uživatel po nějaké době zaregistroval znovu.\n"
   ]
  },
  {
   "cell_type": "code",
   "execution_count": null,
   "metadata": {},
   "outputs": [
    {
     "data": {
      "text/html": [
       "<div>\n",
       "<style scoped>\n",
       "    .dataframe tbody tr th:only-of-type {\n",
       "        vertical-align: middle;\n",
       "    }\n",
       "\n",
       "    .dataframe tbody tr th {\n",
       "        vertical-align: top;\n",
       "    }\n",
       "\n",
       "    .dataframe thead th {\n",
       "        text-align: right;\n",
       "    }\n",
       "</style>\n",
       "<table border=\"1\" class=\"dataframe\">\n",
       "  <thead>\n",
       "    <tr style=\"text-align: right;\">\n",
       "      <th></th>\n",
       "      <th>date_time</th>\n",
       "      <th>email</th>\n",
       "      <th>ip_address</th>\n",
       "      <th>age_group</th>\n",
       "      <th>marketing_channel</th>\n",
       "    </tr>\n",
       "  </thead>\n",
       "  <tbody>\n",
       "    <tr>\n",
       "      <th>0</th>\n",
       "      <td>2021-03-01 00:02:13.920</td>\n",
       "      <td>qbichler@kabsi.at</td>\n",
       "      <td>168.155.75.206</td>\n",
       "      <td>30-44</td>\n",
       "      <td>Social network</td>\n",
       "    </tr>\n",
       "    <tr>\n",
       "      <th>1</th>\n",
       "      <td>2021-03-01 00:04:27.840</td>\n",
       "      <td>robinkolar@chello.cz</td>\n",
       "      <td>105.132.109.66</td>\n",
       "      <td>18-29</td>\n",
       "      <td>Social network</td>\n",
       "    </tr>\n",
       "    <tr>\n",
       "      <th>2</th>\n",
       "      <td>2021-03-01 00:06:41.760</td>\n",
       "      <td>zvesela@chello.cz</td>\n",
       "      <td>105.46.12.139</td>\n",
       "      <td>60+</td>\n",
       "      <td>Newspapers or magazine</td>\n",
       "    </tr>\n",
       "    <tr>\n",
       "      <th>3</th>\n",
       "      <td>2021-03-01 00:08:55.680</td>\n",
       "      <td>gmaresova@email.cz</td>\n",
       "      <td>141.22.41.210</td>\n",
       "      <td>60+</td>\n",
       "      <td>Newspapers or magazine</td>\n",
       "    </tr>\n",
       "    <tr>\n",
       "      <th>4</th>\n",
       "      <td>2021-03-01 00:11:09.600</td>\n",
       "      <td>qkralova@seznam.cz</td>\n",
       "      <td>196.95.130.168</td>\n",
       "      <td>18-29</td>\n",
       "      <td>Friend's recommendation</td>\n",
       "    </tr>\n",
       "  </tbody>\n",
       "</table>\n",
       "</div>"
      ],
      "text/plain": [
       "                date_time                 email      ip_address age_group   \n",
       "0 2021-03-01 00:02:13.920     qbichler@kabsi.at  168.155.75.206     30-44  \\\n",
       "1 2021-03-01 00:04:27.840  robinkolar@chello.cz  105.132.109.66     18-29   \n",
       "2 2021-03-01 00:06:41.760     zvesela@chello.cz   105.46.12.139       60+   \n",
       "3 2021-03-01 00:08:55.680    gmaresova@email.cz   141.22.41.210       60+   \n",
       "4 2021-03-01 00:11:09.600    qkralova@seznam.cz  196.95.130.168     18-29   \n",
       "\n",
       "         marketing_channel  \n",
       "0           Social network  \n",
       "1           Social network  \n",
       "2   Newspapers or magazine  \n",
       "3   Newspapers or magazine  \n",
       "4  Friend's recommendation  "
      ]
     },
     "execution_count": 44,
     "metadata": {},
     "output_type": "execute_result"
    }
   ],
   "source": [
    "import pandas\n",
    "data = pandas.read_json(\"user_registration.json\")\n",
    "data.head()"
   ]
  },
  {
   "attachments": {},
   "cell_type": "markdown",
   "metadata": {},
   "source": [
    "Zjistíme nyní počet záznamů v souboru."
   ]
  },
  {
   "cell_type": "code",
   "execution_count": null,
   "metadata": {},
   "outputs": [
    {
     "data": {
      "text/plain": [
       "34398"
      ]
     },
     "execution_count": 45,
     "metadata": {},
     "output_type": "execute_result"
    }
   ],
   "source": [
    "data[\"email\"].unique().shape[0]"
   ]
  },
  {
   "attachments": {},
   "cell_type": "markdown",
   "metadata": {},
   "source": [
    "Pokud budeme chtít seznam unikátních e-mailových adres, můžeme na sérii `email` aplikovat metodu `unique()`."
   ]
  },
  {
   "attachments": {},
   "cell_type": "markdown",
   "metadata": {},
   "source": [
    "Pokud budeme chtít odstranit duplicitní registrace z celé tabulky, můžeme využít metodu `drop_duplicates()`. Ta odebere řádky na základě sloupců definovaých jako parametr `subset`. Pokud parametr nevyplníme, jsou použity všechny sloupce. Dále vybíráme, které řádky chceme ponechat. K tomu slouží parametr `last`. Máme tři možnosti:\n",
    "\n",
    "- ponechat poslední řádek (`last`),\n",
    "- ponechat první řádek (`first`),\n",
    "- neponechat ani jeden z duplicitních řádků (`False`).\n",
    "\n",
    "V našem případě ponecháme poslední řádek. Počet řádků v souboru nyní odpovídá počtu unikátních e-mailových adres, které jsme získali metodou `unique()`."
   ]
  },
  {
   "cell_type": "code",
   "execution_count": null,
   "metadata": {},
   "outputs": [
    {
     "data": {
      "text/plain": [
       "(34398, 5)"
      ]
     },
     "execution_count": 46,
     "metadata": {},
     "output_type": "execute_result"
    }
   ],
   "source": [
    "data_cleaned = data.drop_duplicates(subset=\"email\", keep=\"last\")\n",
    "data_cleaned.shape"
   ]
  },
  {
   "attachments": {},
   "cell_type": "markdown",
   "metadata": {},
   "source": [
    "## Přený formát data a času\n",
    "\n",
    "Konzervativnější přístup je ale přesná definice formáta data, který využívá stejné symboly, jako funkce `strftime` modulu `datetime`. Náš český formát bychom zapsatli jako `\"%d. %m. %Y\"`:\n",
    "\n",
    "- `%d` zastupuje číslo dne,\n",
    "- `%m` číslo měsíce a\n",
    "- `%Y` rok.\n",
    "\n",
    "Kompletní význam všech zástupných symbolů je stejný jako v jazyce Python a najdeme jen v [dokumentaci modulu datetime](https://docs.python.org/3/library/datetime.html#strftime-and-strptime-behavior)."
   ]
  },
  {
   "cell_type": "code",
   "execution_count": null,
   "metadata": {},
   "outputs": [
    {
     "data": {
      "text/html": [
       "<div>\n",
       "<style scoped>\n",
       "    .dataframe tbody tr th:only-of-type {\n",
       "        vertical-align: middle;\n",
       "    }\n",
       "\n",
       "    .dataframe tbody tr th {\n",
       "        vertical-align: top;\n",
       "    }\n",
       "\n",
       "    .dataframe thead th {\n",
       "        text-align: right;\n",
       "    }\n",
       "</style>\n",
       "<table border=\"1\" class=\"dataframe\">\n",
       "  <thead>\n",
       "    <tr style=\"text-align: right;\">\n",
       "      <th></th>\n",
       "      <th>invoice_date</th>\n",
       "      <th>customer</th>\n",
       "      <th>amount</th>\n",
       "      <th>invoice_date_converted</th>\n",
       "      <th>due_date</th>\n",
       "      <th>status</th>\n",
       "    </tr>\n",
       "  </thead>\n",
       "  <tbody>\n",
       "    <tr>\n",
       "      <th>0</th>\n",
       "      <td>24. 07. 2021</td>\n",
       "      <td>Robbins-Bryant</td>\n",
       "      <td>42424.49</td>\n",
       "      <td>2021-07-24</td>\n",
       "      <td>2021-09-22</td>\n",
       "      <td>before due date</td>\n",
       "    </tr>\n",
       "    <tr>\n",
       "      <th>1</th>\n",
       "      <td>03. 06. 2021</td>\n",
       "      <td>Little, Espinoza and Manning</td>\n",
       "      <td>6269.53</td>\n",
       "      <td>2021-06-03</td>\n",
       "      <td>2021-08-02</td>\n",
       "      <td>overdue</td>\n",
       "    </tr>\n",
       "    <tr>\n",
       "      <th>2</th>\n",
       "      <td>24. 06. 2021</td>\n",
       "      <td>Hartman-Garcia</td>\n",
       "      <td>19182.55</td>\n",
       "      <td>2021-06-24</td>\n",
       "      <td>2021-08-23</td>\n",
       "      <td>overdue</td>\n",
       "    </tr>\n",
       "    <tr>\n",
       "      <th>3</th>\n",
       "      <td>09. 08. 2021</td>\n",
       "      <td>Mason, Armstrong and Whitaker</td>\n",
       "      <td>66295.23</td>\n",
       "      <td>2021-08-09</td>\n",
       "      <td>2021-10-08</td>\n",
       "      <td>before due date</td>\n",
       "    </tr>\n",
       "    <tr>\n",
       "      <th>4</th>\n",
       "      <td>29. 06. 2021</td>\n",
       "      <td>Dickerson-Blankenship</td>\n",
       "      <td>88592.58</td>\n",
       "      <td>2021-06-29</td>\n",
       "      <td>2021-08-28</td>\n",
       "      <td>overdue</td>\n",
       "    </tr>\n",
       "  </tbody>\n",
       "</table>\n",
       "</div>"
      ],
      "text/plain": [
       "   invoice_date                       customer    amount   \n",
       "0  24. 07. 2021                 Robbins-Bryant  42424.49  \\\n",
       "1  03. 06. 2021   Little, Espinoza and Manning   6269.53   \n",
       "2  24. 06. 2021                 Hartman-Garcia  19182.55   \n",
       "3  09. 08. 2021  Mason, Armstrong and Whitaker  66295.23   \n",
       "4  29. 06. 2021          Dickerson-Blankenship  88592.58   \n",
       "\n",
       "  invoice_date_converted   due_date           status  \n",
       "0             2021-07-24 2021-09-22  before due date  \n",
       "1             2021-06-03 2021-08-02          overdue  \n",
       "2             2021-06-24 2021-08-23          overdue  \n",
       "3             2021-08-09 2021-10-08  before due date  \n",
       "4             2021-06-29 2021-08-28          overdue  "
      ]
     },
     "execution_count": 47,
     "metadata": {},
     "output_type": "execute_result"
    }
   ],
   "source": [
    "invoices[\"invoice_date_converted\"] = pandas.to_datetime(invoices[\"invoice_date\"], format=\"%d. %m. %Y\")\n",
    "invoices.head()"
   ]
  },
  {
   "attachments": {},
   "cell_type": "markdown",
   "metadata": {},
   "source": [
    "Funkce `to_datetime` tiše dělá ještě jednu chytrou věc. Převod data z řetězce totiž není úplně jednoduchá záležitost a i když ji moderní počítač zvládne velmi rychle, stále platí pravidlo, že tisíckrát nic umořilo osla. Pokud by tedy `pandas` převáděl každý řetězec, operace by trvala dlouho.\n",
    "\n",
    "Funkce `to_datetime` na to ale jde chytřeji a používá vyrovnávají paměť nebo-li `cache`. Každý převedený řetězec si uloží a předtím, že se pustí do pracného převodu u nového řádku, zkontroluje, zda již takový řetězec nepřeváděl. To je pro náš případ, kdy máme hodně dat v omezeném období ideální. Abychom si vyzkoušeli, jak dlouho by převod trval bez cache, nastavíme parametr `cache` na `False`."
   ]
  },
  {
   "cell_type": "code",
   "execution_count": null,
   "metadata": {},
   "outputs": [
    {
     "data": {
      "text/html": [
       "<div>\n",
       "<style scoped>\n",
       "    .dataframe tbody tr th:only-of-type {\n",
       "        vertical-align: middle;\n",
       "    }\n",
       "\n",
       "    .dataframe tbody tr th {\n",
       "        vertical-align: top;\n",
       "    }\n",
       "\n",
       "    .dataframe thead th {\n",
       "        text-align: right;\n",
       "    }\n",
       "</style>\n",
       "<table border=\"1\" class=\"dataframe\">\n",
       "  <thead>\n",
       "    <tr style=\"text-align: right;\">\n",
       "      <th></th>\n",
       "      <th>invoice_date</th>\n",
       "      <th>customer</th>\n",
       "      <th>amount</th>\n",
       "      <th>invoice_date_converted</th>\n",
       "      <th>due_date</th>\n",
       "      <th>status</th>\n",
       "    </tr>\n",
       "  </thead>\n",
       "  <tbody>\n",
       "    <tr>\n",
       "      <th>0</th>\n",
       "      <td>24. 07. 2021</td>\n",
       "      <td>Robbins-Bryant</td>\n",
       "      <td>42424.49</td>\n",
       "      <td>2021-07-24</td>\n",
       "      <td>2021-09-22</td>\n",
       "      <td>before due date</td>\n",
       "    </tr>\n",
       "    <tr>\n",
       "      <th>1</th>\n",
       "      <td>03. 06. 2021</td>\n",
       "      <td>Little, Espinoza and Manning</td>\n",
       "      <td>6269.53</td>\n",
       "      <td>2021-06-03</td>\n",
       "      <td>2021-08-02</td>\n",
       "      <td>overdue</td>\n",
       "    </tr>\n",
       "    <tr>\n",
       "      <th>2</th>\n",
       "      <td>24. 06. 2021</td>\n",
       "      <td>Hartman-Garcia</td>\n",
       "      <td>19182.55</td>\n",
       "      <td>2021-06-24</td>\n",
       "      <td>2021-08-23</td>\n",
       "      <td>overdue</td>\n",
       "    </tr>\n",
       "    <tr>\n",
       "      <th>3</th>\n",
       "      <td>09. 08. 2021</td>\n",
       "      <td>Mason, Armstrong and Whitaker</td>\n",
       "      <td>66295.23</td>\n",
       "      <td>2021-08-09</td>\n",
       "      <td>2021-10-08</td>\n",
       "      <td>before due date</td>\n",
       "    </tr>\n",
       "    <tr>\n",
       "      <th>4</th>\n",
       "      <td>29. 06. 2021</td>\n",
       "      <td>Dickerson-Blankenship</td>\n",
       "      <td>88592.58</td>\n",
       "      <td>2021-06-29</td>\n",
       "      <td>2021-08-28</td>\n",
       "      <td>overdue</td>\n",
       "    </tr>\n",
       "  </tbody>\n",
       "</table>\n",
       "</div>"
      ],
      "text/plain": [
       "   invoice_date                       customer    amount   \n",
       "0  24. 07. 2021                 Robbins-Bryant  42424.49  \\\n",
       "1  03. 06. 2021   Little, Espinoza and Manning   6269.53   \n",
       "2  24. 06. 2021                 Hartman-Garcia  19182.55   \n",
       "3  09. 08. 2021  Mason, Armstrong and Whitaker  66295.23   \n",
       "4  29. 06. 2021          Dickerson-Blankenship  88592.58   \n",
       "\n",
       "  invoice_date_converted   due_date           status  \n",
       "0             2021-07-24 2021-09-22  before due date  \n",
       "1             2021-06-03 2021-08-02          overdue  \n",
       "2             2021-06-24 2021-08-23          overdue  \n",
       "3             2021-08-09 2021-10-08  before due date  \n",
       "4             2021-06-29 2021-08-28          overdue  "
      ]
     },
     "execution_count": 48,
     "metadata": {},
     "output_type": "execute_result"
    }
   ],
   "source": [
    "invoices[\"invoice_date_converted\"] = pandas.to_datetime(invoices[\"invoice_date\"], format=\"%d. %m. %Y\", cache=False)\n",
    "invoices.head()"
   ]
  },
  {
   "attachments": {},
   "cell_type": "markdown",
   "metadata": {},
   "source": [
    "Vidíme, že převod trvá řádově déle, využití vyrovnávací paměti se tedy vyplatí. Pokud bychom např. převáděli 10 milionů záznamů, budou časy převodů (na bězném PC) cca 2 a 20 sekund."
   ]
  }
 ],
 "metadata": {
  "kernelspec": {
   "display_name": "venv",
   "language": "python",
   "name": "python3"
  },
  "language_info": {
   "codemirror_mode": {
    "name": "ipython",
    "version": 3
   },
   "file_extension": ".py",
   "mimetype": "text/x-python",
   "name": "python",
   "nbconvert_exporter": "python",
   "pygments_lexer": "ipython3",
   "version": "3.11.2"
  },
  "orig_nbformat": 4
 },
 "nbformat": 4,
 "nbformat_minor": 2
}
