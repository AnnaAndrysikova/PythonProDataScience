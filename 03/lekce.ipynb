{
 "cells": [
  {
   "attachments": {},
   "cell_type": "markdown",
   "metadata": {},
   "source": [
    "# Lekce 3\n",
    "\n",
    "## Odstraňování duplicit\n",
    "\n",
    "Duplicitami obecně myslíme opakující se hodnoty v datech. Duplicity mohou vzniknou v důsledku chyby, například:\n",
    "\n",
    "- program zapíše do databáze nebo do logu stejný údaj dvakrát,\n",
    "- vzniknou při propojení (`merge`) tabulek.\n",
    "\n",
    "V některých případech je duplicitní pouze část sloupc. Uvažujme data o registraci uživatelů ze souboru [user_registration.json](user_registration.json). V některých případech uživatel vyplnil registrační formulář do aplikace, ale nepotvrdil e-mailovou adresu (např. mu e-mail padl do spamu) a tak se uživatel po nějaké době zaregistroval znovu."
   ]
  },
  {
   "cell_type": "code",
   "execution_count": 2,
   "metadata": {},
   "outputs": [
    {
     "data": {
      "text/html": [
       "<div>\n",
       "<style scoped>\n",
       "    .dataframe tbody tr th:only-of-type {\n",
       "        vertical-align: middle;\n",
       "    }\n",
       "\n",
       "    .dataframe tbody tr th {\n",
       "        vertical-align: top;\n",
       "    }\n",
       "\n",
       "    .dataframe thead th {\n",
       "        text-align: right;\n",
       "    }\n",
       "</style>\n",
       "<table border=\"1\" class=\"dataframe\">\n",
       "  <thead>\n",
       "    <tr style=\"text-align: right;\">\n",
       "      <th></th>\n",
       "      <th>date_time</th>\n",
       "      <th>email</th>\n",
       "      <th>ip_address</th>\n",
       "      <th>age_group</th>\n",
       "      <th>marketing_channel</th>\n",
       "    </tr>\n",
       "  </thead>\n",
       "  <tbody>\n",
       "    <tr>\n",
       "      <th>0</th>\n",
       "      <td>2021-03-01 00:02:13.920</td>\n",
       "      <td>qbichler@kabsi.at</td>\n",
       "      <td>168.155.75.206</td>\n",
       "      <td>30-44</td>\n",
       "      <td>Social network</td>\n",
       "    </tr>\n",
       "    <tr>\n",
       "      <th>1</th>\n",
       "      <td>2021-03-01 00:04:27.840</td>\n",
       "      <td>robinkolar@chello.cz</td>\n",
       "      <td>105.132.109.66</td>\n",
       "      <td>18-29</td>\n",
       "      <td>Social network</td>\n",
       "    </tr>\n",
       "    <tr>\n",
       "      <th>2</th>\n",
       "      <td>2021-03-01 00:06:41.760</td>\n",
       "      <td>zvesela@chello.cz</td>\n",
       "      <td>105.46.12.139</td>\n",
       "      <td>60+</td>\n",
       "      <td>Newspapers or magazine</td>\n",
       "    </tr>\n",
       "    <tr>\n",
       "      <th>3</th>\n",
       "      <td>2021-03-01 00:08:55.680</td>\n",
       "      <td>gmaresova@email.cz</td>\n",
       "      <td>141.22.41.210</td>\n",
       "      <td>60+</td>\n",
       "      <td>Newspapers or magazine</td>\n",
       "    </tr>\n",
       "    <tr>\n",
       "      <th>4</th>\n",
       "      <td>2021-03-01 00:11:09.600</td>\n",
       "      <td>qkralova@seznam.cz</td>\n",
       "      <td>196.95.130.168</td>\n",
       "      <td>18-29</td>\n",
       "      <td>Friend's recommendation</td>\n",
       "    </tr>\n",
       "  </tbody>\n",
       "</table>\n",
       "</div>"
      ],
      "text/plain": [
       "                date_time                 email      ip_address age_group   \n",
       "0 2021-03-01 00:02:13.920     qbichler@kabsi.at  168.155.75.206     30-44  \\\n",
       "1 2021-03-01 00:04:27.840  robinkolar@chello.cz  105.132.109.66     18-29   \n",
       "2 2021-03-01 00:06:41.760     zvesela@chello.cz   105.46.12.139       60+   \n",
       "3 2021-03-01 00:08:55.680    gmaresova@email.cz   141.22.41.210       60+   \n",
       "4 2021-03-01 00:11:09.600    qkralova@seznam.cz  196.95.130.168     18-29   \n",
       "\n",
       "         marketing_channel  \n",
       "0           Social network  \n",
       "1           Social network  \n",
       "2   Newspapers or magazine  \n",
       "3   Newspapers or magazine  \n",
       "4  Friend's recommendation  "
      ]
     },
     "execution_count": 2,
     "metadata": {},
     "output_type": "execute_result"
    }
   ],
   "source": [
    "import pandas\n",
    "data = pandas.read_json(\"user_registration.json\")\n",
    "data.head()"
   ]
  },
  {
   "attachments": {},
   "cell_type": "markdown",
   "metadata": {},
   "source": [
    "Zjistíme nyní počet záznamů v souboru."
   ]
  },
  {
   "cell_type": "code",
   "execution_count": 3,
   "metadata": {},
   "outputs": [
    {
     "data": {
      "text/plain": [
       "40468"
      ]
     },
     "execution_count": 3,
     "metadata": {},
     "output_type": "execute_result"
    }
   ],
   "source": [
    "data.shape[0]"
   ]
  },
  {
   "attachments": {},
   "cell_type": "markdown",
   "metadata": {},
   "source": [
    "Pokud budeme chtít seznam unikátních e-mailových adres, můžeme na sérii `email` aplikovat metodu `unique()`."
   ]
  },
  {
   "cell_type": "code",
   "execution_count": 4,
   "metadata": {},
   "outputs": [
    {
     "data": {
      "text/plain": [
       "34398"
      ]
     },
     "execution_count": 4,
     "metadata": {},
     "output_type": "execute_result"
    }
   ],
   "source": [
    "data[\"email\"].unique().shape[0]"
   ]
  },
  {
   "attachments": {},
   "cell_type": "markdown",
   "metadata": {},
   "source": [
    "Pokud budeme chtít odstranit duplicitní registrace z celé tabulky, můžeme využít metodu `drop_duplicates()`. Ta odebere řádky na základě sloupců definovaých jako parametr `subset`. Pokud parametr nevyplníme, jsou použity všechny sloupce. Dále vybíráme, které řádky chceme ponechat. K tomu slouží parametr `last`. Máme tři možnosti:\n",
    "\n",
    "- ponechat poslední řádek (`last`),\n",
    "- ponechat první řádek (`first`),\n",
    "- neponechat ani jeden z duplicitních řádků (`False`).\n",
    "\n",
    "V našem případě ponecháme poslední řádek. Počet řádků v souboru nyní odpovídá počtu unikátních e-mailových adres, které jsme získali metodou `unique()`."
   ]
  },
  {
   "cell_type": "code",
   "execution_count": 5,
   "metadata": {},
   "outputs": [
    {
     "data": {
      "text/plain": [
       "(34398, 5)"
      ]
     },
     "execution_count": 5,
     "metadata": {},
     "output_type": "execute_result"
    }
   ],
   "source": [
    "data_cleaned = data.drop_duplicates(subset=\"email\", keep=\"last\")\n",
    "data_cleaned.shape"
   ]
  }
 ],
 "metadata": {
  "kernelspec": {
   "display_name": "venv",
   "language": "python",
   "name": "python3"
  },
  "language_info": {
   "codemirror_mode": {
    "name": "ipython",
    "version": 3
   },
   "file_extension": ".py",
   "mimetype": "text/x-python",
   "name": "python",
   "nbconvert_exporter": "python",
   "pygments_lexer": "ipython3",
   "version": "3.11.2"
  },
  "orig_nbformat": 4
 },
 "nbformat": 4,
 "nbformat_minor": 2
}
