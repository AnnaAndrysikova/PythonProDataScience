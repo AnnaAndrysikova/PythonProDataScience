{
 "cells": [
  {
   "attachments": {},
   "cell_type": "markdown",
   "metadata": {},
   "source": [
    "# Úkol 2\n",
    "\n",
    "Tentokrát budeme pracovat s daty z výzkumu veřejného mínění Eurobarometr. Ten je realizován v cca 40 zemích a lidé jsou v něm pravidelně tázání na řadu otázek. My se podíváme na tři z nich.\n",
    "\n",
    "Přehled států EU, které jsou v průzkumu, najdeš v souboru [countries.csv](soubory_02/countries.csv). V první části úkolu můžeš pracovat se všemi státy nebo jen pro státy EU - záleží na tobě. Ve druhé a třetí části pracuj pouze se státy EU.\n",
    "\n",
    "## Inflace\n",
    "\n",
    "V souboru [ukol_02_a.csv](soubory_02/ukol_02_a.csv) najdeš procenta lidí, kteří považují inflaci a růst životních nákladů za jeden ze svých nejzávažnějších problémů. Data jsou za dvě období - léto 2022 (sloupec 97) a zima 2022/2023 (sloupec 98). Ověř, zda se procento lidí, kteří řadí inflaci mezi 2 své nejzávažnější problémy, změnilo.\n",
    "\n",
    "Je vhodné provést následující postup:\n",
    "\n",
    "- Test normality obou skupin dat. Podle toho zjistíš, zda je lepší provést parametrický nebo neparametrický test.\n",
    "- Formulace hypotéz testu.\n",
    "- Výběr vhodného testu. Vhodný je test, který jsme na lekci nepoužívali, ale je v seznamu testů, který je součástí lekce 6. Důležité je uvědomit si, že **porovnáváme tu samou skupinu států ve dvou různých časových obdobích**.\n",
    "- Formulace výsledek testu (na základě p-hodnoty).\n",
    "\n",
    "## Důvěra ve stát a v EU\n",
    "\n",
    "Ve výzkumu je dále zkoumáno, jak moc lidé věří své národní vládě a jak moc věří EU. Data jsou v souboru [ukol_02_b.csv](soubory_02/ukol_02_b.csv). Číslo udává procento lidí, kteří dané instituci věří. Ověř, zda existuje korelace mezi procentem lidí, které věří EU v každé ze zemí, a procentem lidí, kteří EU nevěří.\n",
    "\n",
    "Je vhodné provést následující postup:\n",
    "\n",
    "- Test normality obou skupin dat.\n",
    "- Formulace hypotéz testu.\n",
    "- Volba vhodného testu. Pokud data nemají normální rozdělení, můžeš využít test korelace, který jsme prováděli na lekci. Pokud data normální rozdělení mají, můžeš použít test zmíněný v přehledu testů v dané lekci.\n",
    "\n",
    "## Důvěra ve stát e euro\n",
    "\n",
    "Nakonec si rozdělíme státy EU na dvě skupiny - státy v eurozóně a státy mimo ni. Jak je to s důvěrou v EU? Důvěřují EU více lidé, kteří žijí ve státech platící eurem? Využij znovu data o důvěře v EU ze souboru [ukol_02_b.csv](soubory_02/ukol_02_b.csv) a rozděl státy na ty, které jsou v eurozóně, a ty, které jsou mimo ni. Porovnej, jak se liší důvěra v EU v těchto dvou skupinách zemí. Státy můžeš rozdělit s využitím tabulky v souboru [countries.csv](countries.csv).\n",
    "\n",
    "- Test normality můžeš vynechat, řiď se výsledkem z předchozí části.\n",
    "- Formulace hypotéz testu.\n",
    "- Volba vhodného testu. Pokud data nemají normální rozdělení, můžeš využít test z bonusového úkolu ze 7 lekce. Pokud data normální rozdělení mají, můžeš použít test zmíněný v přehledu testů v dané lekci.\n",
    "\n",
    "Zdroj dat: [https://europa.eu/eurobarometer/screen/home](https://europa.eu/eurobarometer/screen/home)"
   ]
  }
 ],
 "metadata": {
  "language_info": {
   "name": "python"
  },
  "orig_nbformat": 4
 },
 "nbformat": 4,
 "nbformat_minor": 2
}
