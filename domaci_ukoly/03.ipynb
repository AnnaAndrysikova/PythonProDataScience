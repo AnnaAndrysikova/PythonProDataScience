{
 "cells": [
  {
   "attachments": {},
   "cell_type": "markdown",
   "metadata": {},
   "source": [
    "# Úkol 3\n",
    "\n",
    "Stáhni si data ze souboru [Life-Expectancy-Data-Updated.csv](soubory_03/Life-Expectancy-Data-Updated.csv), která udávají průměrnou dobu života v jednotlivých zemích světa. Data pocházejí od Světové zdravotnické organizace (WHO) a Světové banky. Vytvoř regresní model, jehož úkolem bude zjistit, které faktory ovlivňují průměrnou délku života.\n",
    "\n",
    "- Vyber data pro jeden konkrétní rok (např. pro rok 2015).\n",
    "- Vysvětlovanou proměnnou ve tvém modelu bude `Life expectancy`, což je průměrná délka života.\n",
    "- Délku dožití určitě bude ovlivňovat bohatství země, které lze vyjádřit ve hrubém domácím produktu na hlavu. Začni s modelem, který má jako vysvětlující proměnnou sloupec `GDP_per_capita` (hrubý domácí produkt na hlavu v dolarech). Zobraz výsledek jako graf. Dále si zobraz tabulku s využitím metody využitím modulu `scipy` a metody `summary()` a zjisti koeficient determinace.\n",
    "\n",
    "Do modelu přidej následující sloupce:\n",
    "\n",
    "- `Schooling` - průměrná délka studia (v letech),\n",
    "- `Incidents_HIV` - nákazy virem HIV (počet případů na osobu)\n",
    "- `Diphtheria` - procento populace očkované proti záškrtu,\n",
    "- `Polio` - procento populace očkované proti dětské obrně,\n",
    "- `BMI` - průměrný BMI index populace,\n",
    "- `Measles` - procento populace očkované proti spalničkám.\n",
    "\n",
    "U každého sloupce se zamysli nad tím, jestli může délku života výrazně ovlivnit a jaké tipuješ znaménko koeficientu (kladné - zvyšuje délku života, záporné - snižuje délku života).\n",
    "\n",
    "Sestav model z vybraných sloupců a proveď následující kroky:\n",
    "\n",
    "- Formuluj hypotézu o normalitě reziduí a otestuj ji s využitím modulu `scipy` a metody `summary()`. Jaký je výsledek - mají rezidua normální rozdělení?\n",
    "- Jaký je koeficient determinace výsledného modelu. Porovnej ho s koeficientem determinace, který vyšel z modelu, kde byl pouze hrubý domácí produkt. Jak se změnil? A co to znamená?\n",
    "- Pokud jsi nezamítl(a) hypotézu normality, podívej se do sloupce `P>|t|` a vyber řádek s nejvyšší p-hodnotou. Koeficient pro daný řádek odeber z modelu. Jak se změnila hodnota ostatních koeficientů? Jak se změnil koeficient determinace?\n"
   ]
  }
 ],
 "metadata": {
  "language_info": {
   "name": "python"
  },
  "orig_nbformat": 4
 },
 "nbformat": 4,
 "nbformat_minor": 2
}
